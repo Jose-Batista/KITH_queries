{
 "cells": [
  {
   "cell_type": "code",
   "execution_count": 1,
   "metadata": {},
   "outputs": [],
   "source": [
    "import numpy as np\n",
    "import pandas as pd\n",
    "import matplotlib.pyplot as plt\n",
    "from sklearn.linear_model import LogisticRegression, LogisticRegressionCV\n",
    "import warnings\n",
    "warnings.filterwarnings('ignore')\n",
    "\n",
    "import os\n",
    "from pandas.plotting import scatter_matrix\n",
    "from sklearn.model_selection import train_test_split\n",
    "\n",
    "from sklearn.model_selection import cross_val_score\n",
    "\n",
    "from sklearn import metrics\n",
    "\n",
    "from sklearn.ensemble import RandomForestClassifier\n",
    "from sklearn.model_selection import cross_val_score"
   ]
  },
  {
   "cell_type": "code",
   "execution_count": 66,
   "metadata": {},
   "outputs": [],
   "source": [
    "kith_queries = pd.read_csv('KITH_500rand_sqs_sorted_aucs_2.txt', \"\\t\")"
   ]
  },
  {
   "cell_type": "code",
   "execution_count": 70,
   "metadata": {},
   "outputs": [],
   "source": [
    "### labelling dataset as 0 or 1 based on desired MW-auc (Refquery)\n",
    "\n",
    "mw_series = kith_queries['MW-auc']\n",
    "desired_auc = 0.594\n",
    "\n",
    "for i in range(0, len(mw_series)):\n",
    "    if kith_queries['MW-auc'][i] >= desired_auc:\n",
    "        kith_queries['MW-auc'][i] = 1\n",
    "    else:\n",
    "         kith_queries['MW-auc'][i] = 0"
   ]
  },
  {
   "cell_type": "code",
   "execution_count": 72,
   "metadata": {},
   "outputs": [
    {
     "data": {
      "text/plain": [
       "<bound method NDFrame.describe of 0      1.0\n",
       "1      1.0\n",
       "2      1.0\n",
       "3      1.0\n",
       "4      1.0\n",
       "      ... \n",
       "495    0.0\n",
       "496    0.0\n",
       "497    0.0\n",
       "498    0.0\n",
       "499    0.0\n",
       "Name: MW-auc, Length: 500, dtype: float64>"
      ]
     },
     "execution_count": 72,
     "metadata": {},
     "output_type": "execute_result"
    }
   ],
   "source": [
    "kith_queries['MW-auc'].describe"
   ]
  },
  {
   "cell_type": "code",
   "execution_count": 99,
   "metadata": {},
   "outputs": [],
   "source": [
    "#for i in range(0, len(kith_queries['MW-auc'])):\n",
    "#    print(kith_queries['MW-auc'][i])"
   ]
  },
  {
   "cell_type": "code",
   "execution_count": 73,
   "metadata": {},
   "outputs": [],
   "source": [
    "X_train, X_test, y_train, y_test = train_test_split(kith_queries[['Ac0', 'Ac1', 'Ac2', 'Ac3', 'Ac4', \n",
    "                                                                'Do0', 'Do1', 'Do2', 'Ri0', 'Ri1',]], \n",
    "                                                    kith_queries['MW-auc'], random_state=42)"
   ]
  },
  {
   "cell_type": "code",
   "execution_count": 74,
   "metadata": {},
   "outputs": [
    {
     "name": "stdout",
     "output_type": "stream",
     "text": [
      "X_train shape: (375, 10)\n",
      "y_train shape: (375,)\n"
     ]
    }
   ],
   "source": [
    "print(\"X_train shape: {}\".format(X_train.shape))\n",
    "print(\"y_train shape: {}\".format(y_train.shape))"
   ]
  },
  {
   "cell_type": "code",
   "execution_count": 75,
   "metadata": {},
   "outputs": [
    {
     "data": {
      "text/plain": [
       "LogisticRegression(C=1.0, class_weight=None, dual=False, fit_intercept=True,\n",
       "                   intercept_scaling=1, l1_ratio=None, max_iter=100,\n",
       "                   multi_class='warn', n_jobs=None, penalty='l2',\n",
       "                   random_state=None, solver='warn', tol=0.0001, verbose=0,\n",
       "                   warm_start=False)"
      ]
     },
     "execution_count": 75,
     "metadata": {},
     "output_type": "execute_result"
    }
   ],
   "source": [
    "lr = LogisticRegression()\n",
    "lr.fit(X_train, y_train)"
   ]
  },
  {
   "cell_type": "code",
   "execution_count": 76,
   "metadata": {},
   "outputs": [],
   "source": [
    "lr_pred = lr.predict(X_test)"
   ]
  },
  {
   "cell_type": "code",
   "execution_count": 118,
   "metadata": {},
   "outputs": [
    {
     "data": {
      "text/plain": [
       "0.9707358937885255"
      ]
     },
     "execution_count": 118,
     "metadata": {},
     "output_type": "execute_result"
    }
   ],
   "source": [
    "lr_cv = LogisticRegressionCV(cv=5, random_state=42)\n",
    "lr_cv_fitting= lr_cv.fit(X_train, y_train)\n",
    "cross_val_score(lr_cv, X_train, y_train, cv=5, scoring='accuracy').mean()\n"
   ]
  },
  {
   "cell_type": "code",
   "execution_count": 78,
   "metadata": {},
   "outputs": [],
   "source": [
    "y_predicted_lrcv = lr_cv_fitting.predict(X_test)"
   ]
  },
  {
   "cell_type": "code",
   "execution_count": 79,
   "metadata": {},
   "outputs": [
    {
     "name": "stdout",
     "output_type": "stream",
     "text": [
      "0.968\n"
     ]
    }
   ],
   "source": [
    "print(metrics.accuracy_score(y_test, y_predicted_lrcv))"
   ]
  },
  {
   "cell_type": "code",
   "execution_count": 84,
   "metadata": {},
   "outputs": [
    {
     "name": "stdout",
     "output_type": "stream",
     "text": [
      "              precision    recall  f1-score   support\n",
      "\n",
      "         0.0       0.98      0.98      0.98       114\n",
      "         1.0       0.82      0.82      0.82        11\n",
      "\n",
      "    accuracy                           0.97       125\n",
      "   macro avg       0.90      0.90      0.90       125\n",
      "weighted avg       0.97      0.97      0.97       125\n",
      "\n"
     ]
    }
   ],
   "source": [
    "### Classification report\n",
    "\n",
    "print(metrics.classification_report(y_test, y_predicted_lrcv))"
   ]
  },
  {
   "cell_type": "code",
   "execution_count": 83,
   "metadata": {},
   "outputs": [],
   "source": [
    "### Probability of predicting y\n",
    "\n",
    "y_predicted_prob_lrcv = lr_cv_fitting.predict_proba(X_test)[:, 1]"
   ]
  },
  {
   "cell_type": "code",
   "execution_count": 86,
   "metadata": {},
   "outputs": [],
   "source": [
    "### ROC Curve\n",
    "\n",
    "fpr_lr, tpr_lr, thresholds_lr = metrics.roc_curve(y_test, y_predicted_prob_lrcv)"
   ]
  },
  {
   "cell_type": "code",
   "execution_count": 87,
   "metadata": {},
   "outputs": [
    {
     "name": "stderr",
     "output_type": "stream",
     "text": [
      "No handles with labels found to put in legend.\n"
     ]
    },
    {
     "data": {
      "image/png": "[encoded data removed]",
      "text/plain": [
       "<Figure size 432x288 with 1 Axes>"
      ]
     },
     "metadata": {
      "needs_background": "light"
     },
     "output_type": "display_data"
    }
   ],
   "source": [
    "### Plotting ROC Curve\n",
    "\n",
    "plt.figure()\n",
    "lw_1 = 2\n",
    "plt.plot(fpr_lr, tpr_lr)\n",
    "plt.plot([0, 1], [0, 1], color='navy', lw=lw_1, linestyle='--')\n",
    "plt.xlim([0.0, 1.0])\n",
    "plt.ylim([0.0, 1.05])\n",
    "plt.xlabel('False Positive Rate')\n",
    "plt.ylabel('True Positive Rate')\n",
    "plt.title('ROC Curve for LR Classifier')\n",
    "plt.legend(loc=\"lower right\")\n",
    "plt.show()"
   ]
  },
  {
   "cell_type": "code",
   "execution_count": 88,
   "metadata": {},
   "outputs": [
    {
     "name": "stdout",
     "output_type": "stream",
     "text": [
      "\n",
      "\n",
      " AUC score for LR Classifier:  0.9904306220095694\n"
     ]
    }
   ],
   "source": [
    "### AUC Score\n",
    "from sklearn.metrics import roc_auc_score\n",
    "\n",
    "auc_score_lrcv = roc_auc_score(y_test, y_predicted_prob_lrcv)\n",
    "print(\"\\n\\n AUC score for LR Classifier: \",auc_score_lrcv)"
   ]
  },
  {
   "cell_type": "markdown",
   "metadata": {},
   "source": [
    "### Random Forest"
   ]
  },
  {
   "cell_type": "code",
   "execution_count": 91,
   "metadata": {},
   "outputs": [],
   "source": [
    "\n",
    "rfc = RandomForestClassifier(max_depth=2, random_state=42)\n",
    "\n",
    "\n",
    "### cross-validate the entire process\n",
    "### thus, preprocessing occurs within each fold of cross-validation\n",
    "rfc_cv_clf = cross_val_score(rfc, X_train, y_train, cv=5, scoring='accuracy')\n",
    "\n",
    "\n",
    "rfc_fitting = rfc.fit(X_train, y_train)"
   ]
  },
  {
   "cell_type": "code",
   "execution_count": 92,
   "metadata": {},
   "outputs": [
    {
     "data": {
      "text/plain": [
       "0.9360312944523471"
      ]
     },
     "execution_count": 92,
     "metadata": {},
     "output_type": "execute_result"
    }
   ],
   "source": [
    "cross_val_score(rfc, X_train, y_train, cv=5, scoring='accuracy').mean()"
   ]
  },
  {
   "cell_type": "markdown",
   "metadata": {},
   "source": [
    "### RF Performance"
   ]
  },
  {
   "cell_type": "code",
   "execution_count": 96,
   "metadata": {},
   "outputs": [
    {
     "name": "stderr",
     "output_type": "stream",
     "text": [
      "No handles with labels found to put in legend.\n"
     ]
    },
    {
     "name": "stdout",
     "output_type": "stream",
     "text": [
      "Accuracy of RF: 0.912 \n",
      "\n",
      "\n",
      "Classification Report of RF: \n",
      "               precision    recall  f1-score   support\n",
      "\n",
      "         0.0       0.91      1.00      0.95       114\n",
      "         1.0       0.00      0.00      0.00        11\n",
      "\n",
      "    accuracy                           0.91       125\n",
      "   macro avg       0.46      0.50      0.48       125\n",
      "weighted avg       0.83      0.91      0.87       125\n",
      " \n",
      "\n",
      "\n"
     ]
    },
    {
     "data": {
      "image/png": "[encoded data removed]",
      "text/plain": [
       "<Figure size 432x288 with 1 Axes>"
      ]
     },
     "metadata": {
      "needs_background": "light"
     },
     "output_type": "display_data"
    },
    {
     "name": "stdout",
     "output_type": "stream",
     "text": [
      "\n",
      "\n",
      " AUC score for RF Classifier:  0.9497607655502392\n"
     ]
    }
   ],
   "source": [
    "### applying the model on test data\n",
    "y_predicted_rfc = rfc_fitting.predict(X_test)\n",
    "\n",
    "### accuracy of rfc\n",
    "print(\"Accuracy of RF:\", metrics.accuracy_score(y_test, y_predicted_rfc),\"\\n\\n\")\n",
    "\n",
    "### classification report\n",
    "print(\"Classification Report of RF: \\n\", metrics.classification_report(y_test, y_predicted_rfc), \"\\n\\n\")\n",
    "\n",
    "### probability of predicting correct y\n",
    "y_predicted_prob_rfc = rfc_fitting.predict_proba(X_test)[:, 1]\n",
    "\n",
    "### ROC Curve\n",
    "fpr_rf, tpr_rf, thresholds_rf = metrics.roc_curve(y_test, y_predicted_prob_rfc)\n",
    "\n",
    "### plotting ROC curve\n",
    "plt.figure()\n",
    "lw_1 = 2\n",
    "plt.plot(fpr_rf, tpr_rf)\n",
    "plt.plot([0, 1], [0, 1], color='navy', lw=lw_1, linestyle='--')\n",
    "plt.xlim([0.0, 1.0])\n",
    "plt.ylim([0.0, 1.05])\n",
    "plt.xlabel('False Positive Rate')\n",
    "plt.ylabel('True Positive Rate')\n",
    "plt.title('ROC Curve for RF Classifier')\n",
    "plt.legend(loc=\"lower right\")\n",
    "plt.show()\n",
    "\n",
    "### AUC score\n",
    "auc_score_rfc = roc_auc_score(y_test, y_predicted_prob_rfc)\n",
    "print(\"\\n\\n AUC score for RF Classifier: \",auc_score_rfc)"
   ]
  },
  {
   "cell_type": "markdown",
   "metadata": {},
   "source": [
    "### Gradient Boosted Trees"
   ]
  },
  {
   "cell_type": "code",
   "execution_count": 97,
   "metadata": {},
   "outputs": [],
   "source": [
    "from sklearn import ensemble\n",
    "\n",
    "### Fit regression model\n",
    "params = {'n_estimators': 50, 'min_samples_split': 2,\n",
    "          'learning_rate': 0.1}\n",
    "clf_gbt = ensemble.GradientBoostingClassifier(**params)\n",
    "\n",
    "gbtc = clf_gbt.fit(X_train, y_train)"
   ]
  },
  {
   "cell_type": "markdown",
   "metadata": {},
   "source": [
    "### GBT Performance"
   ]
  },
  {
   "cell_type": "code",
   "execution_count": 98,
   "metadata": {},
   "outputs": [
    {
     "name": "stderr",
     "output_type": "stream",
     "text": [
      "No handles with labels found to put in legend.\n"
     ]
    },
    {
     "name": "stdout",
     "output_type": "stream",
     "text": [
      "Accuracy of GBT: 0.928 \n",
      "\n",
      "\n",
      "Classification Report of GBT: \n",
      "               precision    recall  f1-score   support\n",
      "\n",
      "         0.0       0.94      0.98      0.96       114\n",
      "         1.0       0.67      0.36      0.47        11\n",
      "\n",
      "    accuracy                           0.93       125\n",
      "   macro avg       0.80      0.67      0.72       125\n",
      "weighted avg       0.92      0.93      0.92       125\n",
      " \n",
      "\n",
      "\n"
     ]
    },
    {
     "data": {
      "image/png": "[encoded data removed]",
      "text/plain": [
       "<Figure size 432x288 with 1 Axes>"
      ]
     },
     "metadata": {
      "needs_background": "light"
     },
     "output_type": "display_data"
    },
    {
     "name": "stdout",
     "output_type": "stream",
     "text": [
      "\n",
      "\n",
      " AUC score for GBT Classifier:  0.9752791068580542\n"
     ]
    }
   ],
   "source": [
    "### applying the model on test data\n",
    "y_predicted_gbtc = gbtc.predict(X_test)\n",
    "\n",
    "### accuracy of gbtc\n",
    "print(\"Accuracy of GBT:\", metrics.accuracy_score(y_test, y_predicted_gbtc),\"\\n\\n\")\n",
    "\n",
    "### classification report\n",
    "print(\"Classification Report of GBT: \\n\", metrics.classification_report(y_test, y_predicted_gbtc), \"\\n\\n\")\n",
    "\n",
    "### probability of predicting correct y\n",
    "y_predicted_prob_gbtc = gbtc.predict_proba(X_test)[:, 1]\n",
    "\n",
    "### ROC Curve\n",
    "fpr_gbt, tpr_gbt, thresholds_gbt = metrics.roc_curve(y_test, y_predicted_prob_gbtc)\n",
    "\n",
    "### plotting ROC curve\n",
    "plt.figure()\n",
    "lw_1 = 2\n",
    "plt.plot(fpr_gbt, tpr_gbt)\n",
    "plt.plot([0, 1], [0, 1], color='navy', lw=lw_1, linestyle='--')\n",
    "plt.xlim([0.0, 1.0])\n",
    "plt.ylim([0.0, 1.05])\n",
    "plt.xlabel('False Positive Rate')\n",
    "plt.ylabel('True Positive Rate')\n",
    "plt.title('ROC Curve for GBT Classifier')\n",
    "plt.legend(loc=\"lower right\")\n",
    "plt.show()\n",
    "\n",
    "### AUC score\n",
    "auc_score_gbtc = roc_auc_score(y_test, y_predicted_prob_gbtc)\n",
    "print(\"\\n\\n AUC score for GBT Classifier: \",auc_score_gbtc)"
   ]
  }
 ],
 "metadata": {
  "kernelspec": {
   "display_name": "Python 3",
   "language": "python",
   "name": "python3"
  },
  "language_info": {
   "codemirror_mode": {
    "name": "ipython",
    "version": 3
   },
   "file_extension": ".py",
   "mimetype": "text/x-python",
   "name": "python",
   "nbconvert_exporter": "python",
   "pygments_lexer": "ipython3",
   "version": "3.7.3"
  }
 },
 "nbformat": 4,
 "nbformat_minor": 2
}
